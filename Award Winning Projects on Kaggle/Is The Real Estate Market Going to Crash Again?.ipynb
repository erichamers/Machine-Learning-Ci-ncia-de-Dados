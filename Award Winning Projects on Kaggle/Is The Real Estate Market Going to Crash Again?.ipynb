{
  "cells": [
    {
      "metadata": {
        "_cell_guid": "57904587-f6ec-42b6-9a55-03a998c456a4",
        "_uuid": "4709d5d5a462128b95c00e552c38bf8429bf6f94"
      },
      "cell_type": "markdown",
      "source": "# Introduction\n\n   Hi! My name is Eric, I'm an economist from Brazil. I've always been facinated by the real estate market, and mostly shocked (specially in my country) by the amount of subjectivity in it. I find it very weird that people trust so blindly realters with very little to none economical, math or statistical training. Specially when this person's valuations of real estate is highly biased, since they get a comission from it. \n   \n   To me, it's no surprise at all that one of the worst economic crisis of the modern area started in the real estate market. This dataset from Zillow gives us an amazing oportunity to see how were the numbers before 2008 and how are things now. \n   \n   The objective of this notebook, it's try to predict wheter we are moving towards a new crash in the real estate market.\n\n  I'm farely new do datascience so any constructive criticism will be greatly appreciated, and if you like this notebook, don't forget to upvote it. If you use any of the code in it, please, don't forget to give credit and link to this notebook!"
    },
    {
      "metadata": {
        "_cell_guid": "ac2b04e3-08e2-4c91-bd61-814bd28027ec",
        "_uuid": "6a176cdfe2b9ec2e61e12e3eadaa759705a7f300"
      },
      "cell_type": "markdown",
      "source": "## 1. Imports \n\nLet's import and set preferences of a few modules that are going to be necessary for this notebook"
    },
    {
      "metadata": {
        "_cell_guid": "2189e2be-6a8e-48cb-b244-9a182ac6a0ba",
        "_uuid": "024c1edb6d5033056dbbd74d43fb4efee55da91c",
        "trusted": false,
        "collapsed": true
      },
      "cell_type": "code",
      "source": "# Math and data modules\nimport numpy as np \nimport pandas as pd\n\n# Data visualization modules\nimport matplotlib.pyplot as plt\n%matplotlib inline\nimport seaborn as sns\nsns.set_style('darkgrid') # setting the style of the plots\n\npd.options.display.max_columns = 999 \npd.options.display.max_rows = 999 \n\nfrom subprocess import check_output\nprint(check_output([\"ls\", \"../input\"]).decode(\"utf8\"))",
      "execution_count": null,
      "outputs": []
    },
    {
      "metadata": {
        "_cell_guid": "999c8a26-4d81-4e92-bbe6-24a9ba226776",
        "_uuid": "44397895ba8748b7ad6d3c9dfd994f2fdc028e46"
      },
      "cell_type": "markdown",
      "source": "## 2. Handling Data\n### Loading data\n\nSince we are doing a more 'macro' analysis, let's use the State dataset rather than cities or counties. I haven't checked the other datasets, but I'm pretty sure that they would all point towards the same directions."
    },
    {
      "metadata": {
        "_cell_guid": "43611dfe-d592-4769-8581-703d2d6bdb79",
        "collapsed": true,
        "_uuid": "9623a332163ddfc8c031d3163ca00174662251fc",
        "trusted": false
      },
      "cell_type": "code",
      "source": "data = pd.read_csv('../input/State_time_series.csv')",
      "execution_count": null,
      "outputs": []
    },
    {
      "metadata": {
        "_cell_guid": "8ff54880-994b-4bdf-be21-df6f2bc08d65",
        "_uuid": "e38b5d24548b8c161400f6d8e4fb3ea9a81adb19",
        "trusted": false,
        "collapsed": true
      },
      "cell_type": "code",
      "source": "data.head()",
      "execution_count": null,
      "outputs": []
    },
    {
      "metadata": {
        "_cell_guid": "7fcdf639-f69e-4d60-a256-ed758a0e4b98",
        "_uuid": "504a391133ff70eb8ebad488caa51cda5707818e"
      },
      "cell_type": "markdown",
      "source": "### Parsing dates\n\nSince we are going to analyse the market by year, we need to transform our Date column, which is a string now, into a datetime format and then extract the year from it.\n\nThen, we can start grouping data by the new 'Year' feature and ploting it to have an idea of how they behaved during the years.  Let's start by an obvious one, the median of sold price."
    },
    {
      "metadata": {
        "_cell_guid": "11386743-52f3-4cb5-acc3-edce16e76c57",
        "collapsed": true,
        "_uuid": "99fca24d3cf923d43b72f1daab55921aeccfd3dc",
        "trusted": false
      },
      "cell_type": "code",
      "source": "data['Date'] = pd.to_datetime(data['Date'])\ndata['Year'] = data['Date'].apply(lambda x: x.year)",
      "execution_count": null,
      "outputs": []
    },
    {
      "metadata": {
        "_cell_guid": "3e56a572-13d4-4c78-8a09-00b2e0038485",
        "_uuid": "e9043c3a357679617a62775b8a04bf2dd0ea87e7"
      },
      "cell_type": "markdown",
      "source": "## 3. Selling Prices"
    },
    {
      "metadata": {
        "_cell_guid": "eb1325de-26d6-42e2-a438-c9abaa970239",
        "_uuid": "3e9bde9677f7a92172fadc1a4e6961fb940e68c8",
        "trusted": false,
        "collapsed": true
      },
      "cell_type": "code",
      "source": "data.groupby(data['Year'])['MedianSoldPrice_AllHomes'].mean().dropna().plot(linewidth=4, figsize=(15, 6))\nplt.title('Median Sold Prices by Year', fontsize=14)\nplt.ylabel('Price\\n')\nplt.show()",
      "execution_count": null,
      "outputs": []
    },
    {
      "metadata": {
        "_cell_guid": "7e4eea90-3347-4d57-bfdf-93c2543f4cb0",
        "_uuid": "ceda567479c7d76aa169a97464dc77ff89fa1d46"
      },
      "cell_type": "markdown",
      "source": "We can see that before 2005, prices were growing pretty much exponetially and that things started to slowdown around 2006 but still going up, and then, subprime crisis exploded in 2008 and prices started to drop, untill around 2012, when they started to climb back up again. The dataset is missing information from 2017, but we can see that prices have bounced back to pre '08 levels, does it mean that we are on the verge of a new crash in the market? Let's investigate it a little further."
    },
    {
      "metadata": {
        "_cell_guid": "b0781095-76e3-47e5-ae42-67b0eeb9782b",
        "_uuid": "5dc40d54c73cd21c35ace58f146e7e9dafc59fda"
      },
      "cell_type": "markdown",
      "source": "### By states"
    },
    {
      "metadata": {
        "_cell_guid": "0cbd661a-ce4b-43e1-9b9a-ff2de56f6398",
        "_uuid": "bf27402d001084970e099003771e23abbfcdb1e5",
        "trusted": false,
        "collapsed": true
      },
      "cell_type": "code",
      "source": "states = data.groupby(data['RegionName'])['MedianSoldPrice_AllHomes'].mean().dropna().sort_values(ascending=False).index\nvalues = data.groupby(data['RegionName'])['MedianSoldPrice_AllHomes'].mean().dropna().sort_values(ascending=False).values\nplt.figure(figsize=(15, 15))\nsns.barplot(y=states, x=values, color='blue')\nplt.title('Median Price by State', fontsize=14)\nplt.xlabel('Price', fontsize=12)\nplt.ylabel('State', fontsize=12)\nprint('Highest Median Price ${:,.2f} in {}'.format(round(values[0], 2), states[0]))\nprint('Lowest Median Price ${:,.2f} in {}'.format(round(values[-1], 2), states[-1]))",
      "execution_count": null,
      "outputs": []
    },
    {
      "metadata": {
        "_cell_guid": "abba3730-b5c5-4681-864f-5cfbe6340d79",
        "_uuid": "f9d9031da19a9e58d64fe723b75be1fc1470a9ea"
      },
      "cell_type": "markdown",
      "source": "## 4. Rent Prices\n\nUsually the rent values are a percentage of the real estate selling price. But it's ratio is influenced by interest rates. I expect it to have the same behaviour as the Selling Price data."
    },
    {
      "metadata": {
        "_cell_guid": "ba97a37e-2951-4061-b273-d4d7022c401b",
        "_uuid": "83e5c05dc1fe8ae604fc419528a36145c60d0df3",
        "trusted": false,
        "collapsed": true
      },
      "cell_type": "code",
      "source": "data.groupby(data['Year'])['MedianRentalPrice_AllHomes'].mean().dropna().plot(linewidth=4, figsize=(15, 6))\nplt.title('Median Rental Prices', fontsize=14)\nplt.ylabel('Price\\n')\nplt.show()",
      "execution_count": null,
      "outputs": []
    },
    {
      "metadata": {
        "_cell_guid": "56c3c7d5-23bb-44e2-866f-6ba87158e141",
        "_uuid": "0433568367efd2266a02ddcfd89f25acee26008b"
      },
      "cell_type": "markdown",
      "source": " Unfortunatelly, in this data set, the rent series only has values after 2010, but we can see that it seems to have the same trends as the selling prices. But the interesting thing here is that, even though prices growth has slowed down in the last years. Rent prices have actually speeded up. I'd say this is probably a result of the FED's monetary policy, increasing interest rates in the past years."
    },
    {
      "metadata": {
        "_cell_guid": "2424307a-b75f-4d0c-a12b-05a9af97b589",
        "_uuid": "0d9fe50feaa86a300e3930689e33698e873db746"
      },
      "cell_type": "markdown",
      "source": "### By state"
    },
    {
      "metadata": {
        "_cell_guid": "f3bad38b-d7b7-4754-8ff0-6ce274e4e358",
        "_uuid": "b254f16e1bd635b6d970586803b057e645e89eed",
        "trusted": false,
        "collapsed": true
      },
      "cell_type": "code",
      "source": "states = data.groupby(data['RegionName'])['MedianRentalPrice_AllHomes'].mean().dropna().sort_values(ascending=False).index\nvalues = data.groupby(data['RegionName'])['MedianRentalPrice_AllHomes'].mean().dropna().sort_values(ascending=False).values\nplt.figure(figsize=(15, 15))\nsns.barplot(y=states, x=values, color='blue')\nplt.title('Rental Price by State', fontsize=14)\nplt.xlabel('Price', fontsize=12)\nplt.ylabel('State', fontsize=12)\nprint('Highest Median Price ${:,.2f} in {}'.format(round(values[0], 2), states[0]))\nprint('Lowest Median Price ${} in {}'.format(round(values[-1], 2), states[-1]))",
      "execution_count": null,
      "outputs": []
    },
    {
      "metadata": {
        "_cell_guid": "7a2ed8dc-6256-4dee-921c-f158c2e8f65b",
        "_uuid": "4bbfe7f027061ae02d725ee4fbdac7e6de0af475"
      },
      "cell_type": "markdown",
      "source": "## 5. How Long to Sell?\n\nOne interesting thing we can check is how long it takes to sell a house, and how it changed through out the years. I'd say this is a very good thermometer of how the real estate market is!"
    },
    {
      "metadata": {
        "_cell_guid": "b62fb82d-357a-4251-a9e8-7fbe0c4d852a",
        "_uuid": "69c9a9fb83a0217599d726a7f904e6bf2fa461b3",
        "trusted": false,
        "collapsed": true
      },
      "cell_type": "code",
      "source": "plt.title('Days to Sell a House', fontsize=14)\ndata.groupby(data['Year'])['DaysOnZillow_AllHomes'].mean().dropna().plot(linewidth=4, figsize=(15, 6))\nplt.ylabel('Days\\n')\nplt.show()",
      "execution_count": null,
      "outputs": []
    },
    {
      "metadata": {
        "_cell_guid": "ae646e23-2c02-44e0-9b04-d31c31fdf6f0",
        "_uuid": "6eaab8dd49d3b28d7825782221e7328a3baca8c2"
      },
      "cell_type": "markdown",
      "source": "We can see that since this series started in 2010, it's been getting easier and easier to sell a house. The average was around 130 days in 2010 and in 2017 it's around 95 days."
    },
    {
      "metadata": {
        "_cell_guid": "b97f90b2-a105-4a51-a517-c81fd5d52efd",
        "_uuid": "fbe182802c0619a1c995487bfea0fb4d94d358a6"
      },
      "cell_type": "markdown",
      "source": "### By State"
    },
    {
      "metadata": {
        "_cell_guid": "d8fa7d74-de7b-4d54-87d9-c75d6017dd89",
        "_uuid": "1b026664b8c21d1265faef54d2b6d89f9d712f1e",
        "trusted": false,
        "collapsed": true
      },
      "cell_type": "code",
      "source": "states = data.groupby(data['RegionName'])['DaysOnZillow_AllHomes'].mean().dropna().sort_values(ascending=False).index\nvalues = data.groupby(data['RegionName'])['DaysOnZillow_AllHomes'].mean().dropna().sort_values(ascending=False).values\nplt.figure(figsize=(13, 15))\nsns.barplot(y=states, x=values, color='blue')\nplt.title('Median Days on Zillow', fontsize=14)\nplt.xlabel('Days', fontsize=12)\nplt.ylabel('State', fontsize=12)\nprint('Hardest to sell in {} with {} days'.format(states[0], round(values[0], 2)))\nprint('Easiest to sell in {} with {} days'.format(states[-1], round(values[-1], 2)))",
      "execution_count": null,
      "outputs": []
    },
    {
      "metadata": {
        "_cell_guid": "328af475-2a1e-4f17-a5f9-d391ac019bcb",
        "_uuid": "c629673ec29d7bf66ca9a939c401e56b1cf63852"
      },
      "cell_type": "markdown",
      "source": "## 7. Foreclosures\n\nI expect that the ratio of houses sold as foreclosure increased around 2008, let's check that.  And to have relatively inverse tendencies to the price."
    },
    {
      "metadata": {
        "_cell_guid": "3dcee5c6-66b1-440b-a6c7-8ad159376efd",
        "_uuid": "6285a2aeca8adfe868c0e1de7851ddd93b70a53c",
        "trusted": false,
        "collapsed": true
      },
      "cell_type": "code",
      "source": "f, ax = plt.subplots(2, 1, figsize=(15, 12))\ndata.groupby(data['Year'])['HomesSoldAsForeclosuresRatio_AllHomes'].mean().plot(linewidth=4, ax=ax[0])\nax[0].set_title('Homes Sold as Foreclosure Ratio')\nax[0].set_ylabel('Ratio')\ndata.groupby(data['Year'])['MedianSoldPrice_AllHomes'].mean().plot(linewidth=4, ax=ax[1])\nax[1].set_title('Median Sold Price')\nax[1].set_ylabel('Price')\nplt.show()",
      "execution_count": null,
      "outputs": []
    },
    {
      "metadata": {
        "_cell_guid": "e1d9f60a-d4b8-48ba-8dd2-0e138a9fdc40",
        "_uuid": "ac7a983890aeccc664b424409d3cbd9cf79ca152"
      },
      "cell_type": "markdown",
      "source": "And as we expected, the ratio of houses sold as foreclosure started climbing drastically around 2006 and peaked in 2010 and started to go down since then. "
    },
    {
      "metadata": {
        "_cell_guid": "43e4b9a0-8ada-4361-80bd-e17cf39d0225",
        "_uuid": "6e474ef80e4601cb69ac0d79660ee7d8e59a8ab1"
      },
      "cell_type": "markdown",
      "source": "### By state"
    },
    {
      "metadata": {
        "_cell_guid": "d268d832-c4cb-4af3-83c0-37b3c6af1862",
        "_uuid": "50adeb028d4057f79b2d30285b5b573d544b3b44",
        "trusted": false,
        "collapsed": true
      },
      "cell_type": "code",
      "source": "states = data.groupby(data['RegionName'])['HomesSoldAsForeclosuresRatio_AllHomes'].mean().dropna().sort_values(ascending=False).index\nvalues = data.groupby(data['RegionName'])['HomesSoldAsForeclosuresRatio_AllHomes'].mean().dropna().sort_values(ascending=False).values\nplt.figure(figsize=(15, 15))\nsns.barplot(y=states, x=values, color='blue')\nplt.title('Homes Sold as Foreclosure Ratio', fontsize=14)\nplt.xlabel('Ratio', fontsize=12)\nplt.ylabel('State', fontsize=12)\nprint('Highest foreclosure ratio of {} in {}'.format(round(values[0], 2), states[0]))\nprint('Lowest foreclosure ratio of {} in {}'.format(round(values[-1], 2), states[-1]))",
      "execution_count": null,
      "outputs": []
    },
    {
      "metadata": {
        "_cell_guid": "9f40c23b-3ebc-4fa5-bb8f-8e3e685a5229",
        "_uuid": "2daf9412b1d93b70ba7a30c78b7dabec813a84c2"
      },
      "cell_type": "markdown",
      "source": "## 8. Price increase, decrease, gain and loss\n\nLet's check the percentage of increase, decrease, gain and loss in value of real estate through the years."
    },
    {
      "metadata": {
        "_cell_guid": "7ff9b0d1-e4b8-478d-9186-3b983993a50f",
        "_uuid": "9a8c5eb273def79846a25fdb5bca8a47349be150",
        "trusted": false,
        "collapsed": true
      },
      "cell_type": "code",
      "source": "f, ax = plt.subplots(2, 2, figsize=(15, 12))\n\ndata.groupby(data['Year'])['PctOfHomesDecreasingInValues_AllHomes'].mean().dropna().plot(linewidth=4, ax=ax[0, 0])\ndata.groupby(data['Year'])['PctOfHomesIncreasingInValues_AllHomes'].mean().dropna().plot(linewidth=4, ax=ax[1, 0])\ndata.groupby(data['Year'])['PctOfHomesSellingForGain_AllHomes'].mean().dropna().plot(linewidth=4, ax=ax[1, 1])\ndata.groupby(data['Year'])['PctOfHomesSellingForLoss_AllHomes'].mean().dropna().plot(linewidth=4, ax=ax[0, 1])\nax[0, 0].set_title('Percentage Of Homes Decreasing in Value')\nax[0, 1].set_title('Percentage Of Homes Selling for Loss')\nax[1, 0].set_title('Percentage Of Homes Increasing in Value')\nax[1, 1].set_title('Percentage Of Homes Selling for Gain')\nplt.show()",
      "execution_count": null,
      "outputs": []
    },
    {
      "metadata": {
        "_cell_guid": "b3bf807c-fa12-4a7b-9803-d0a952ad96a3",
        "collapsed": true,
        "_uuid": "9cb060308ac6aa344ac8eb9793dcbe13a7946170"
      },
      "cell_type": "markdown",
      "source": "It seems a little bit obvious, but we can see that before the recession, real estate was increasing in value, during it was losing value and after it started gaining value again. The increase is almost perfectly correlated with the decrease in value. It's interesting to see that the amount of homes selling for loss increased during the recession and the amount selling for gain decreased during it."
    },
    {
      "metadata": {
        "_cell_guid": "45b1ffc6-87aa-4eaa-b0a1-9a039ee0de82",
        "_uuid": "c08147b6a920e409994565a4ed355226e488ae6c"
      },
      "cell_type": "markdown",
      "source": "## 9. Which estates suffered the most with the crash?\n\nJust as a fun fact, we can check which cities suffered the most from the crash, and which ones recovered the best. First, let's find which years had the highest and lowest median sold prices."
    },
    {
      "metadata": {
        "_cell_guid": "1bba242e-ea2f-437d-be50-bfb596df2d6d",
        "_uuid": "758fbb3e01aec73511a97159cc0e46c23ee5c78a",
        "trusted": false,
        "collapsed": true
      },
      "cell_type": "code",
      "source": "max_price = data.groupby(data['Year'])['MedianSoldPrice_AllHomes'].mean().max()\nmax_year  = data.groupby(data['Year'])['MedianSoldPrice_AllHomes'].mean().argmax()\nmin_price = data.groupby(data['Year'])['MedianSoldPrice_AllHomes'].mean().min()\nmin_year = data.groupby(data['Year'])['MedianSoldPrice_AllHomes'].mean().argmin()\nprint('Max median price of ${:,.2f} in {}'.format(max_price, max_year))\nprint('Min median price of ${:,.2f} in {}'.format(min_price, min_year))",
      "execution_count": null,
      "outputs": []
    },
    {
      "metadata": {
        "_cell_guid": "c34605da-e971-42f4-bc40-cc0cfd53b695",
        "_uuid": "e4dc9d9d7b5d65d87bb712aefec7b8288707bf00"
      },
      "cell_type": "markdown",
      "source": "Ok... so, the lowest median price was in 1996. I think it's unlikely that prices will fall back to the same levels that they were two decade ago, mostly because of inflation. Anyway... if we find the lowest price after 2007 (which was the year with the highest prices), we can find which was the worst year for the real estate market after the crash."
    },
    {
      "metadata": {
        "_cell_guid": "49c9abce-c80e-4d45-ba09-c93ea20fcabb",
        "_uuid": "97fa5bd96b5536475b1fdac8668c5427b2fb04fc",
        "trusted": false,
        "collapsed": true
      },
      "cell_type": "code",
      "source": "min_year_after07  = data.groupby(data['Year'])['MedianSoldPrice_AllHomes'].mean()[11:].argmin()\nmin_price_after07 = data.groupby(data['Year'])['MedianSoldPrice_AllHomes'].mean()[11:].min()\nprint('Min median price after \\'07 of ${:,.2f} in {}'.format(min_price_after07, min_year_after07))",
      "execution_count": null,
      "outputs": []
    },
    {
      "metadata": {
        "_cell_guid": "8a69cd7f-17bd-4e9b-bdda-4794fb1876c3",
        "_uuid": "00927618d2e33c79fd077df42f982ca50276a9a6"
      },
      "cell_type": "markdown",
      "source": "It looks like the worst year for the real estate market was 2012. Now we let's look at how the prices were looking by estate in those years.\n\nWe can make a dataframe with the prices in those years and create a columns with the % variation."
    },
    {
      "metadata": {
        "_cell_guid": "10341423-ff52-4c7b-9d99-f29744081c99",
        "collapsed": true,
        "_uuid": "18126aa7c6378fc6fb05ced2d7b44c14fbcd9f59",
        "trusted": false
      },
      "cell_type": "code",
      "source": "values_07 = data[data['Year'] == 2007].groupby(data['RegionName'])['MedianSoldPrice_AllHomes'].mean().dropna().values\nestates   = data[data['Year'] == 2007].groupby(data['RegionName'])['MedianSoldPrice_AllHomes'].mean().dropna().index\nvalues_12 = data[data['Year'] == 2012].groupby(data['RegionName'])['MedianSoldPrice_AllHomes'].mean().dropna().values\ndf = pd.DataFrame({'2007 Price': values_07, \n                   '2012 Price': values_12}, index=estates)\ndf['Variation'] = round((df['2012 Price'] - df['2007 Price'])/df['2007 Price'], 2)",
      "execution_count": null,
      "outputs": []
    },
    {
      "metadata": {
        "_cell_guid": "a60061ce-964c-4f44-abb4-a98893e36f02",
        "_uuid": "7ebaf69e3a63b824e55b629561c1b0a97893a40e",
        "trusted": false,
        "collapsed": true
      },
      "cell_type": "code",
      "source": "estates = df['Variation'].sort_values(ascending=True).head(5).index\nvalues  = df['Variation'].sort_values(ascending=True).head(5).values\nprint(df['Variation'].sort_values(ascending=True)[:5])\nplt.figure(figsize=(10, 8))\nplt.title('Price Variation 07 x 12 by State',fontsize=14)\nplt.xticks(fontsize=8)\nplt.yticks(fontsize=8)\nplt.ylabel('Price Variation\\n', fontsize=12)\nsns.barplot(x=estates, y=values)\nplt.xlabel('\\nRegion Name', fontsize=12)\nplt.ylim(0, -0.6)\nplt.show()",
      "execution_count": null,
      "outputs": []
    },
    {
      "metadata": {
        "_cell_guid": "8d724ca1-5856-4ca6-bcc8-742f3e4a6fa0",
        "_uuid": "b228f74f556d6831fa15f585cb85566420c1e8a5"
      },
      "cell_type": "markdown",
      "source": "So the states that suffered the most with the subprime crisis regarding prices of real estate were Nevada, Florida, California, Arizona and Illinois."
    },
    {
      "metadata": {
        "_cell_guid": "403df8ad-f356-4b19-bd0a-39f35699415e",
        "_uuid": "305ea673c91499c064f804f74d08606d5a381bf9"
      },
      "cell_type": "markdown",
      "source": "# Conclusion"
    },
    {
      "metadata": {
        "_cell_guid": "d6d310d8-7f21-4d6c-81ca-200cdd5fda24",
        "_uuid": "6277c70cd0725228ea9658ad41568d80eb9aa4d7",
        "trusted": false,
        "collapsed": true
      },
      "cell_type": "code",
      "source": "prices = [data[data['Year'] == 2006]['MedianSoldPrice_AllHomes'].mean(),\n         data[data['Year'] == 2008]['MedianSoldPrice_AllHomes'].mean(),\n         data[data['Year'] == 2012]['MedianSoldPrice_AllHomes'].mean(),\n         data[data['Year'] == 2016]['MedianSoldPrice_AllHomes'].mean()]\nyears = [2006, 2008, 2012, 2016]\nprint('Median prices in 2006: ${:,.2f}'.format(round(prices[0], 2)))\nprint('Median prices in 2008: ${:,.2f}'.format(round(prices[1], 2)))\nprint('Median prices at 2012: ${:,.2f}'.format(round(prices[2], 2)))\nprint('Median prices in 2016: ${:,.2f}'.format(round(prices[3], 2)))\nplt.figure(figsize=(10, 8))\nsns.barplot(y=prices, x=years)\nplt.title('Price by Year', fontsize=14)\nplt.xticks(fontsize=12)\nplt.xlabel('Year', fontsize=12)\nplt.yticks(fontsize=12)\nplt.ylabel('Price\\n', fontsize=12)\nplt.show()",
      "execution_count": null,
      "outputs": []
    },
    {
      "metadata": {
        "_cell_guid": "51312495-b2d8-40c2-afbe-6e699f7bbaed",
        "_uuid": "be6da4b5d2fa183e0b7d864919b483084be69db8"
      },
      "cell_type": "markdown",
      "source": "From our short analysis, we can see that right before the 2008 subprime crisis, the growth in price of real estate started to slow down, from a previous exponential increase, at the same time, percentage os homes selling for a loss started to increase and also the ratio of homes sold as foreclosure. Looking back, we can see that it was possible to identify that something was weird in the real estate market, the thing is, that it's hard to realize before it happens. \n\nAt the moment, we can see that Prices are back at pre 2008 levels, but from the data we can conclude that there is no risk of another crisis in the real estate market, since variables like homes sold as foreclosure, time to sell and homes selling for loss are down."
    },
    {
      "metadata": {
        "_cell_guid": "cb239471-0165-42fc-b772-696115d86baf",
        "_uuid": "4e69ffaa3e5699c7f05c1ed10c55630a60c11b6a"
      },
      "cell_type": "markdown",
      "source": "If you've made it this far in the notebook, thank you for reading! Don't forget to upvote if you liked it or if it helped you in any way."
    }
  ],
  "metadata": {
    "kernelspec": {
      "display_name": "Python 3",
      "language": "python",
      "name": "python3"
    },
    "language_info": {
      "mimetype": "text/x-python",
      "version": "3.6.3",
      "pygments_lexer": "ipython3",
      "nbconvert_exporter": "python",
      "file_extension": ".py",
      "codemirror_mode": {
        "version": 3,
        "name": "ipython"
      },
      "name": "python"
    }
  },
  "nbformat": 4,
  "nbformat_minor": 1
}