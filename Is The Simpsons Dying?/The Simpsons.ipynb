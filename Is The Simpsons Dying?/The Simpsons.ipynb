{
  "cells": [
    {
      "metadata": {
        "_cell_guid": "785ef6a9-7fd9-4fc6-9937-bec9de0b3c15",
        "_uuid": "055e15f3a59f466920066d02bdaa750318161f10"
      },
      "cell_type": "markdown",
      "source": "# The Simpsons - A Not So D'Oh Statistical Analysis"
    },
    {
      "metadata": {
        "_cell_guid": "602b5ebc-a76f-453b-a1b9-008e1ebce984",
        "_uuid": "8e6c82fb601a90a4e63f8e1a9b894c7e148ca226",
        "trusted": false,
        "collapsed": true
      },
      "cell_type": "code",
      "source": "import numpy as np\nimport pandas as pd\n\nimport matplotlib.pyplot as plt\n%matplotlib inline\nimport seaborn as sns\nsns.set_style('darkgrid')\n\nfrom subprocess import check_output\nprint(check_output([\"ls\", \"../input\"]).decode(\"utf8\"))",
      "execution_count": null,
      "outputs": []
    },
    {
      "metadata": {
        "_cell_guid": "94d6c136-6776-42e6-a14f-f377a58a161c",
        "_uuid": "a27b18d96d37780653b37dc063057138aa71a1cf",
        "trusted": false,
        "collapsed": true
      },
      "cell_type": "code",
      "source": "episodes = pd.read_csv('../input/simpsons_episodes.csv')\nepisodes.head()",
      "execution_count": null,
      "outputs": []
    },
    {
      "metadata": {
        "_cell_guid": "9d63bc7a-ffd7-422c-bdc6-0591dbaaf545",
        "_uuid": "0bb58e9037e9466241b9feac2946bbbf40bde8f4"
      },
      "cell_type": "markdown",
      "source": "It seems to be an awesome data set for a simple statistical analysis but with some very interesting information. First things first, let's get rid of a couple of columns that we aren't going to need in our analysis. We can drop the 'image_url' and 'vide_url'. And then let's drop some rows with missing values."
    },
    {
      "metadata": {
        "_cell_guid": "5abb612d-798c-4bc3-a9ba-8f7090f1df67",
        "_uuid": "f26dfd909eda5bade618c42ce7392941717b9cea",
        "trusted": false,
        "collapsed": true
      },
      "cell_type": "code",
      "source": "print('Data shape before: {}'.format(episodes.shape))\nepisodes.drop(['image_url', 'video_url'], axis=1, inplace=True)\nprint('Data shape after: {}'.format(episodes.shape))",
      "execution_count": null,
      "outputs": []
    },
    {
      "metadata": {
        "_cell_guid": "0efa9c37-c678-42c6-9059-e3e93b02f851",
        "_uuid": "4c4f8f86476702425161e450bb585d3d6c005f48",
        "trusted": false,
        "collapsed": true
      },
      "cell_type": "code",
      "source": "episodes.season.unique()",
      "execution_count": null,
      "outputs": []
    },
    {
      "metadata": {
        "_cell_guid": "6a344372-633e-44c8-9c5f-266cebc57bd2",
        "_uuid": "3e85752d97f3f5e066f33ea0af2ef6265e1aa31a"
      },
      "cell_type": "markdown",
      "source": "Awesome! It seems like we have 28 seasons of The Simpsons in our data set. Let's see if we have missing values in the data set."
    },
    {
      "metadata": {
        "_cell_guid": "283d8259-dc8a-44c0-a2fd-ffd917c621c5",
        "_uuid": "144a50e99bfea06d1c13a573f8fe4bdfe3f88638",
        "trusted": false,
        "collapsed": true
      },
      "cell_type": "code",
      "source": "episodes.isnull().sum()",
      "execution_count": null,
      "outputs": []
    },
    {
      "metadata": {
        "_cell_guid": "fceee179-8e32-4aed-9c5d-1f6713703a7c",
        "_uuid": "5c608e9b1e8e71975ac83ed8d4299ee0ec3207c5",
        "trusted": false,
        "collapsed": true
      },
      "cell_type": "code",
      "source": "episodes.dropna(inplace=True)\nepisodes.isnull().sum()",
      "execution_count": null,
      "outputs": []
    },
    {
      "metadata": {
        "_cell_guid": "e87fd302-4f18-4749-840e-1bbb107a5b68",
        "_uuid": "469f55dc71a30346a1dd9cbaf953d003d6231432"
      },
      "cell_type": "markdown",
      "source": "Let's take a look at the distribution of viewership through the years."
    },
    {
      "metadata": {
        "_cell_guid": "b854d439-9561-437e-af34-59823fad49d7",
        "_uuid": "3ced28fad6a30625893c0a04d170bc0b957f9758",
        "trusted": false,
        "collapsed": true
      },
      "cell_type": "code",
      "source": "fig, (axis1, axis2) = plt.subplots(2, 1, figsize=(15, 10))\nsns.barplot(x='season', y='views', data=episodes, ci=None, ax=axis1)\nsns.barplot(x='season', y='us_viewers_in_millions', data=episodes, ci=None, ax=axis2)",
      "execution_count": null,
      "outputs": []
    },
    {
      "metadata": {
        "_cell_guid": "d1dc8bc2-af61-4b96-9cb4-bc25433ba655",
        "_uuid": "53a4ea5542876964106dd2a038001386288f921d",
        "trusted": false,
        "collapsed": true
      },
      "cell_type": "code",
      "source": "episodes['us_viewers'] = episodes['us_viewers_in_millions'] * 1000\n\nfig, (axis1, axis2) = plt.subplots(1, 2, figsize=(15, 5))\n\nsns.regplot(x='id', y='views', data=episodes, ci=None, ax=axis1)\nsns.regplot(x='id', y='us_viewers', data=episodes, ci=None, ax=axis2)\nepisodes.drop('us_viewers', axis=1, inplace=True)",
      "execution_count": null,
      "outputs": []
    },
    {
      "metadata": {
        "_cell_guid": "66663a96-ac0d-4458-9618-292d91fd5a11",
        "_uuid": "af76260e9889f4040a4cf1dccc5e138b392028da",
        "trusted": false,
        "collapsed": true
      },
      "cell_type": "code",
      "source": "fig, (axis1, axis2) = plt.subplots(1, 2, figsize=(15, 5))\nsns.regplot(x='id', y='imdb_rating', data=episodes, ci=None, ax=axis1)\nsns.regplot(x='id', y='imdb_votes', data=episodes, ci=None, ax=axis2)",
      "execution_count": null,
      "outputs": []
    },
    {
      "metadata": {
        "_cell_guid": "95bbf1e2-cc72-4397-aee8-9137eaede7cc",
        "_uuid": "7e8656a8afcd836c616db2564b752922ed211bf7"
      },
      "cell_type": "markdown",
      "source": "It seems that The Simpsons ratings have been falling through the years, specially in the US. But that's not a surprise, overall television ratings have been following for the last decades, in fact, when compared to other shows, the simpsons is not doing that bad. But the interesting thing here is that imdb_ratings and votes have also been falling, what could that mean?"
    }
  ],
  "metadata": {
    "language_info": {
      "file_extension": ".py",
      "mimetype": "text/x-python",
      "version": "3.6.3",
      "name": "python",
      "nbconvert_exporter": "python",
      "pygments_lexer": "ipython3",
      "codemirror_mode": {
        "version": 3,
        "name": "ipython"
      }
    },
    "kernelspec": {
      "display_name": "Python 3",
      "language": "python",
      "name": "python3"
    }
  },
  "nbformat": 4,
  "nbformat_minor": 1
}