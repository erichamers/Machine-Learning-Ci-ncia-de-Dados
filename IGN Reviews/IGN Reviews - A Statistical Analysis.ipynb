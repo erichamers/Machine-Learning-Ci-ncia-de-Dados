{
  "cells": [
    {
      "metadata": {
        "_uuid": "c5d0faa20d463d2af1eadadc3d5f49a025680b8a",
        "_cell_guid": "e19e6306-e708-4541-9428-fb2892ff7366"
      },
      "cell_type": "markdown",
      "source": "# IGN Reviews - 10/10 Statistical Analysis\n\n#### Sometimes during the weekends I like to do little fun projects. Beeing a huge video games fan, I think this is going to be a very interesting one. So this is a statistical analysis of over 18 thousand IGN reviews made in the last 50 years. "
    },
    {
      "metadata": {
        "_uuid": "1b60654a70710e1e0804dbf88fd4ac21c99525cd",
        "_cell_guid": "0d169fc0-8062-4489-bc0c-dd1df4df8540",
        "trusted": false,
        "collapsed": true
      },
      "cell_type": "code",
      "source": "# Imports\n\nimport numpy as np\nimport pandas as pd\nimport matplotlib.pyplot as plt\n%matplotlib inline\nimport seaborn as sns\nfrom wordcloud import WordCloud, STOPWORDS\nsns.set_style('darkgrid')\nsns.set_palette(sns.color_palette(\"hls\", 4))\n\nimport warnings\nwarnings.filterwarnings('ignore')\n\nfrom subprocess import check_output\nprint(check_output([\"ls\", \"../input\"]).decode(\"utf8\"))",
      "execution_count": null,
      "outputs": []
    },
    {
      "metadata": {
        "_uuid": "67f3f012854c928dd0e124493fb715a69ca4fdef",
        "_cell_guid": "7b31680a-049c-407f-91c5-4f9fdad47057",
        "collapsed": true,
        "trusted": false
      },
      "cell_type": "code",
      "source": "df = pd.read_csv('../input/ign.csv')",
      "execution_count": null,
      "outputs": []
    },
    {
      "metadata": {
        "_uuid": "4ea4f152a2b407e52f474053b2bb58b922cb9ab2",
        "_cell_guid": "2b9b9394-9048-411d-9f87-348f5da1d972",
        "trusted": false,
        "collapsed": true
      },
      "cell_type": "code",
      "source": "df.columns",
      "execution_count": null,
      "outputs": []
    },
    {
      "metadata": {
        "_uuid": "927f2c96dfc68d3ff1137e448077c782a3cd5845",
        "_cell_guid": "50fad3aa-01d9-4e03-b2c0-35d9fbbc4556"
      },
      "cell_type": "markdown",
      "source": "It looks like the Unnamed: 0 column can be safely dropped, let's also drop the url column, since it doesn't add much to our analysis."
    },
    {
      "metadata": {
        "_uuid": "9802212970212f7cc32720658f0765fc6958ae42",
        "_cell_guid": "a8603eee-66ff-475f-bb75-ac672da81c2f",
        "trusted": false,
        "collapsed": true
      },
      "cell_type": "code",
      "source": "df.drop(['Unnamed: 0', 'url'], axis=1, inplace=True)\ndf.dropna(inplace=True)\ndf.head()",
      "execution_count": null,
      "outputs": []
    },
    {
      "metadata": {
        "_uuid": "901c6b585a060dcb3b17dea81c1c5af8eb25eef6",
        "_cell_guid": "e8234bc1-46e8-4ae0-9248-70c43de6e5e4"
      },
      "cell_type": "markdown",
      "source": "Now let's check which values are present in the score_phrase column, and let's start preparing it to plot in a histogram"
    },
    {
      "metadata": {
        "_uuid": "ef4194141195b6d86a94ec26096070f16e8fe50d",
        "_cell_guid": "b86b5ea9-a37c-49e9-8e28-254147d039a5",
        "trusted": false,
        "collapsed": true
      },
      "cell_type": "code",
      "source": "df['score_phrase'].value_counts()",
      "execution_count": null,
      "outputs": []
    },
    {
      "metadata": {
        "_uuid": "a4970eff809f09e30196877c8a5b329223dca584",
        "_cell_guid": "6e2b66a7-7ad3-4551-bb08-f4e98b22b79e"
      },
      "cell_type": "markdown",
      "source": "Hmm, interesting, there seems to be way more positive reviews than negative ones, let's investigate this further. We can make a list with all this values to use it in our graph."
    },
    {
      "metadata": {
        "_uuid": "f7621305c93f789aee774f5207c9933a843976e1",
        "_cell_guid": "25cd10fc-8503-4f14-b39f-23d0fcde3232",
        "collapsed": true,
        "trusted": false
      },
      "cell_type": "code",
      "source": "scores = ['Masterpiece', 'Amazing', 'Great', 'Good', 'Okay', 'Mediocre', 'Bad', 'Awful',\n         'Painful', 'Unbearable', 'Disaster']\nscores_values = list(reversed(range(0, 11)))",
      "execution_count": null,
      "outputs": []
    },
    {
      "metadata": {
        "_uuid": "f8e21c43ff3dafe2cf157c1274d55ec15c558efb",
        "_cell_guid": "ab0bee12-f954-489e-8929-40513056593a"
      },
      "cell_type": "markdown",
      "source": "# Reviews Distribution"
    },
    {
      "metadata": {
        "_uuid": "fcf0690764bb7f607b59552a0052e6cc54d335cf",
        "_kg_hide-input": false,
        "_cell_guid": "af3d93d9-2be0-479b-885a-f776ca0dfb4c",
        "_kg_hide-output": false,
        "trusted": false,
        "collapsed": true
      },
      "cell_type": "code",
      "source": "fig, (axis1, axis2) = plt.subplots(2, 1, figsize=(15, 10))\nplt.figure(figsize=(15, 5))\nsns.countplot(df['score_phrase'], order=scores, ax=axis1)\nsns.countplot(df['score'], order=list(reversed(range(0, 11))), ax=axis2)",
      "execution_count": null,
      "outputs": []
    },
    {
      "metadata": {
        "_uuid": "95c8228dc525a020c05c7ae04d4077ec324123e8",
        "_cell_guid": "f2671ed9-98f0-4ff5-91eb-2de78a564485"
      },
      "cell_type": "markdown",
      "source": "As we can see in the graphs above, the reviews distribution is definetely more skewed towards the positive side, with a big concentration of reviews around the 'Great' and 'Good', with scores of 8 and 7. "
    },
    {
      "metadata": {
        "_uuid": "e2892acbdc14a4d0dafc899a30ef2590786e7dd7",
        "_cell_guid": "75c4e8ce-581e-42f2-8934-6ed8758b78dc"
      },
      "cell_type": "markdown",
      "source": "# Cleaning Some Data\n\nLet's take a look at all the values present in the 'genre' column."
    },
    {
      "metadata": {
        "_uuid": "98383a629e6f8044b8b4fea9ac889d3dd9696820",
        "_cell_guid": "cc8c5e51-6eb7-4834-9150-8e0dfc6af901",
        "trusted": false,
        "collapsed": true
      },
      "cell_type": "code",
      "source": "df['genre'].unique()",
      "execution_count": null,
      "outputs": []
    },
    {
      "metadata": {
        "_uuid": "56c9c09febbf493d8d8e4d89d5e4d5fc0a0dda51",
        "_cell_guid": "c44e4aad-bff5-4b6c-83fa-9c37e5ea0f7d"
      },
      "cell_type": "markdown",
      "source": "Well... that looks bad... There are a lot of genres that seem to have 2 keywords, like 'Puzzle, Platformer' eventhough there is already both genres separated. We can fix this with a few lambda functions to get rid of the second part in this genres and format it. Also, for some reason, 'Baseball' is a separated genre from 'Sports', let's fix them by putting Baseball into the sports category."
    },
    {
      "metadata": {
        "_uuid": "b736b0cea186d07f19de21b0fbe59d7925824bd1",
        "_cell_guid": "e3fa8edf-416c-43cd-aaac-bddccb1966a1",
        "collapsed": true,
        "trusted": false
      },
      "cell_type": "code",
      "source": "df['genre'] = df['genre'].apply(lambda x: str(x).split(',')[0])\ndf['genre'] = df['genre'].apply(lambda x: 'Sports' if x == 'Baseball' else x)",
      "execution_count": null,
      "outputs": []
    },
    {
      "metadata": {
        "_uuid": "fd90793fd818b08cc40817481c7145a11782c0b7",
        "_cell_guid": "93d430dc-c56f-4063-87d5-6d471ad23662"
      },
      "cell_type": "markdown",
      "source": "Great! Now let's plot and see if we find out anything interesting."
    },
    {
      "metadata": {
        "_uuid": "d36aa7d75f44ee8d74908be85fbf57ee7a480eb6",
        "_cell_guid": "0de11023-47e4-49ed-b9e1-49672df85652",
        "trusted": false,
        "collapsed": true
      },
      "cell_type": "code",
      "source": "plt.figure(figsize=(15, 7))\nsns.countplot(y=df['genre'])",
      "execution_count": null,
      "outputs": []
    },
    {
      "metadata": {
        "_uuid": "871a50d0184b09a08b5a8a22b259cdad209ba445",
        "_cell_guid": "1bcf5d74-49e0-40c0-be75-a6c1e487a93f"
      },
      "cell_type": "markdown",
      "source": "WOW! There seems to be A LOT more games in the 'Action' category (more than double) than any other one. The second most popular category is Sports, followed by Shooter, which I argue, could be included in the Action group, then the next most popular genre would be Racing, which again, I think could be included in the Sports category. Then the next most popular group would be Adventure. I think it's interesting that there are more Racing then Adventure games released."
    },
    {
      "metadata": {
        "_uuid": "dd3bab71ce96d3c7abc83ccc9cdb18d80e022aa9",
        "_cell_guid": "233abb14-ccc0-4a2b-a8c8-c2606d487fe8"
      },
      "cell_type": "markdown",
      "source": "## Titles WordCloud\n\nLet's take a look at a word cloud of the most common words used in titles of video games releases in the last 30 years."
    },
    {
      "metadata": {
        "_uuid": "c4d4f77076dd609e2c7053bfe1457cdd946aa755",
        "_cell_guid": "7af86d9b-75dc-4625-8bbf-710419e0e56b",
        "trusted": false,
        "collapsed": true
      },
      "cell_type": "code",
      "source": "wordcloud = WordCloud(stopwords=STOPWORDS, background_color='white',\n                      width=1280,height=720, max_words=60,\n                      prefer_horizontal=0.85, colormap='tab10').generate(\" \".join(df['title']))\n\nplt.figure(figsize=(10, 10))\nplt.imshow(wordcloud, interpolation='bilinear')\nplt.axis('off')",
      "execution_count": null,
      "outputs": []
    },
    {
      "metadata": {
        "_uuid": "2b8b73fb05ed0ff29bd8afe2d56940d13643ae1a",
        "_cell_guid": "6aecdf00-690b-4e7b-8fa8-090a79eb2357"
      },
      "cell_type": "markdown",
      "source": "Interesting to see that there are more Star Wars titles than Call of Duty. I'd never guessed that. Also, it's funny how some TV shows, like Walking Dead and movies like Harry Potter show in the cloud. Another interesting thing is that Tiger Woods also makes an appearance."
    },
    {
      "metadata": {
        "_uuid": "af3955f65db7a7bdef276f6864e15ac6f324c7d4",
        "_cell_guid": "2dd74b2e-7edf-45b6-aae6-45132ee2c631"
      },
      "cell_type": "markdown",
      "source": "# Most Popular Platforms\n\nNow let's take a look at the most popular platforms by titles released."
    },
    {
      "metadata": {
        "_uuid": "64b2bbf0d975b8fe131b64b4c0868d37a6f8f28c",
        "_cell_guid": "27158ba8-ddd7-457d-9a8f-137c8d136449",
        "trusted": false,
        "collapsed": true
      },
      "cell_type": "code",
      "source": "df['platform'].value_counts()",
      "execution_count": null,
      "outputs": []
    },
    {
      "metadata": {
        "_uuid": "05f0fc5516cf6d50b1378ce861c767f858cdda9f",
        "_cell_guid": "9c76efdc-7caa-4f1f-9fa7-b4b2819cfef3",
        "collapsed": true,
        "trusted": false
      },
      "cell_type": "code",
      "source": "platforms = ['PC', 'PlayStation 2', 'Xbox 360', 'Wii', 'PlayStation 3', 'Nintendo DS',\n             'PlayStation', 'Wireless', 'iPhone', 'Xbox', 'PlayStation Portable',\n            'Game Boy Advance', 'GameCube', 'Game Boy Color', 'Nintendo 64', 'Dreamcast', \n            'PlayStation 4', 'Nintendo DSi', 'Nintendo 3DS', 'Xbox One', 'PlayStation Vita',\n            'Wii U']",
      "execution_count": null,
      "outputs": []
    },
    {
      "metadata": {
        "_uuid": "36bd942ec81eaaa41265f4839841fb361d759f36",
        "_cell_guid": "f3fb0240-a70a-42d0-9e88-2d682bea7ab6",
        "trusted": false,
        "collapsed": true
      },
      "cell_type": "code",
      "source": "df['platform'] = df['platform'].apply(lambda x: 'Others' if x not in platforms else x)\nplt.figure(figsize=(15, 7))\nsns.countplot(y=df['platform'])",
      "execution_count": null,
      "outputs": []
    },
    {
      "metadata": {
        "_uuid": "fe9c418db2fc2dddf1b18ed3d8e4363bf0d49cd8",
        "_cell_guid": "2375cd6e-9420-42c2-a7aa-c1cd31ff807c"
      },
      "cell_type": "markdown",
      "source": "We can see that the platform with the most releases is PC, that makes sense, since computer's don't really have a life spam, they get upgraded, but stay categorized as PC. The second and third platforms with the most releases are XBOX 360 and Playstation 2.  Followed by the Playstation 3 and Wii."
    },
    {
      "metadata": {
        "_uuid": "d0be942890393b5b8891cf6f7f8d5ac36d281811",
        "_cell_guid": "ec0a82ef-5e87-43c5-8a17-69ba7912146d"
      },
      "cell_type": "markdown",
      "source": "# Game Releases by Date\n\nLet's take a look at the graphs for games released by day, month and year. From my gamer experience I feel that the hottest months for releases are around september/october. Let's see if that's how it goes and if there is some other interesting information."
    },
    {
      "metadata": {
        "_uuid": "bc1011f6f4e6ea6216f19ea70e1cfd7ff8b1f27a",
        "_cell_guid": "f09d7890-6701-456b-9fef-288129b4545b",
        "trusted": false,
        "collapsed": true
      },
      "cell_type": "code",
      "source": "fig, (axis1, axis2, axis3) = plt.subplots(3, 1, figsize=(15, 15))\ndf.groupby(['release_day']).size().plot(ax=axis1, c='b')\ndf.groupby(['release_month']).size().plot(ax=axis2, c='b')\ndf.groupby(['release_year']).size().plot(ax=axis3, c='b')",
      "execution_count": null,
      "outputs": []
    },
    {
      "metadata": {
        "_uuid": "57ff592077fded6a28009f59f5d8d0e11971d1ec",
        "_cell_guid": "784805e0-1766-498d-a10f-4c7431d41e5e",
        "collapsed": true
      },
      "cell_type": "markdown",
      "source": "Interesting! Apparently the hottest month for game releases is november! I guess it makes sense, since it's the month before the holidays, it's a pretty obvious business decision to sell games in november antecipating christmas. Also, it seems like the releases distribution for days of the month is pretty even, except for the last few days, where they drop off abruptly.\n\nFrom the graph of releases by year we can see that the video game industry realy took off at the end of the 90's, probably boosted by the releases of the Nintendo 64 and Playstation in the mid 90's."
    },
    {
      "metadata": {
        "_uuid": "56c336449c9f40dcaf2ba754f0a509be7b56f28e",
        "_cell_guid": "fc2df1c9-fa5c-4f3f-9a6d-606ccbd00d12",
        "collapsed": true
      },
      "cell_type": "markdown",
      "source": "# Masterpieces\n\nLet's take a look at the masterpieces in the last 40 years according to IGN."
    },
    {
      "metadata": {
        "_uuid": "276ce9a530becd006a4facbc07440c9d171aae1d",
        "_cell_guid": "16790dcc-bb51-45b3-a1e6-35061a4832a1",
        "trusted": false,
        "collapsed": true
      },
      "cell_type": "code",
      "source": "masterpieces = df[df['score_phrase']=='Masterpiece']\nmasterpieces.drop('score_phrase', axis=1, inplace=True)\nmasterpieces",
      "execution_count": null,
      "outputs": []
    },
    {
      "metadata": {
        "_uuid": "d3e51460a895e1a3a85c289ed2eec604c380a0d0",
        "_cell_guid": "21e65af6-7925-408b-9bd0-036864b4cb41"
      },
      "cell_type": "markdown",
      "source": "## Masterpieces by Platform"
    },
    {
      "metadata": {
        "_uuid": "e3a8ec86149b4a693c3ad13aca40198e5a96d683",
        "_cell_guid": "66a63fb7-4163-4d47-8811-024f3e9298d8",
        "trusted": false,
        "collapsed": true
      },
      "cell_type": "code",
      "source": "masterpieces['platform'].value_counts()",
      "execution_count": null,
      "outputs": []
    },
    {
      "metadata": {
        "_uuid": "628e46daccc2d98ae08f3c05f1a4379c0bbdc51a",
        "_cell_guid": "635e6c8d-8090-41a8-858d-1362499c0183",
        "trusted": false,
        "collapsed": true
      },
      "cell_type": "code",
      "source": "plt.figure(figsize=(13, 5))\nsns.countplot(y='platform', data=masterpieces)",
      "execution_count": null,
      "outputs": []
    },
    {
      "metadata": {
        "_uuid": "7113b49e9a7a319ffd9fa15e65cca32710f204c5",
        "_cell_guid": "812ae6da-9419-43aa-9faa-3e17c5a7c607"
      },
      "cell_type": "markdown",
      "source": "We can see that the platform with the most masterpieces is the Game Boy Color, followed by the Playstation 3 and Xbox 360. It's remarkable that the Game Boy Color has the most masterpieces, since it's not even in the top 10 for release count."
    },
    {
      "metadata": {
        "_uuid": "e2707464623959c1f9179be3ecdd15afde22111d",
        "_cell_guid": "f34fe18a-138f-4115-9719-5bf22337ee03"
      },
      "cell_type": "markdown",
      "source": "## Masterpieces by Year\n\nLet's take a look at the masterpieces distribution by year"
    },
    {
      "metadata": {
        "_uuid": "11eeffd18f0fb2ed0cc9fb24df1b061606599855",
        "_cell_guid": "5f27c38b-727e-4404-9884-43d39fae4a6c",
        "trusted": false,
        "collapsed": true
      },
      "cell_type": "code",
      "source": "plt.figure(figsize=(13, 8))\nsns.countplot('release_year', data=masterpieces)",
      "execution_count": null,
      "outputs": []
    },
    {
      "metadata": {
        "_uuid": "dfce2392a33374faca319b2022a3d6d6c8005aad",
        "_cell_guid": "0ba8a326-eb87-493d-9f1e-26d03d8149ec"
      },
      "cell_type": "markdown",
      "source": "# Worst Titles\n\n![](http://)Since there are only 3 disasters, let's take a look at the bottom two scores, disasters/unberables."
    },
    {
      "metadata": {
        "_uuid": "e811adaf24389cd359fcb4862d29fa7869c4d3a1",
        "_cell_guid": "b6a8ff50-c5d4-4160-a848-a446266228d3",
        "trusted": false,
        "collapsed": true
      },
      "cell_type": "code",
      "source": "disasters = df[df['score_phrase']=='Disaster']\nunbearables = df[df['score_phrase']=='Unbearable']\nworst = pd.concat([disasters, unbearables])\nworst",
      "execution_count": null,
      "outputs": []
    },
    {
      "metadata": {
        "_uuid": "5d967ff175792cbecb345206d54f7516748f74c1",
        "_cell_guid": "f1dcc21a-b79a-4ea4-a877-d17b994938d7"
      },
      "cell_type": "markdown",
      "source": "## Worst Titles by Platform"
    },
    {
      "metadata": {
        "_uuid": "55a7131693897bf6fbf5728994a597907e23348d",
        "_cell_guid": "ffbec9d7-d313-4786-91c8-c615c6082b6f",
        "trusted": false,
        "collapsed": true
      },
      "cell_type": "code",
      "source": "worst['platform'].value_counts()",
      "execution_count": null,
      "outputs": []
    },
    {
      "metadata": {
        "_uuid": "bb84edc8c2cb898f452adfcc761dc1708247efd3",
        "_cell_guid": "2b392057-db7b-4fa5-a5a5-733f5c0b222c",
        "trusted": false,
        "collapsed": true
      },
      "cell_type": "code",
      "source": "plt.figure(figsize=(13, 5))\nsns.countplot(y='platform', data=worst)",
      "execution_count": null,
      "outputs": []
    },
    {
      "metadata": {
        "_uuid": "d19951219e6613b65e37d6c298713d3fe0ab0a88",
        "_cell_guid": "421a7b99-0a39-423d-8f5c-83d8bf9ad38e"
      },
      "cell_type": "markdown",
      "source": "Well.. things are looking pretty bad for the Wii. Having so many bad titles on the pc is expected, since it's the platform with the most releases, but the wii is only 4th in the titles released ranking."
    },
    {
      "metadata": {
        "_uuid": "ce9662a6147161ad9b23abdda4fa8524d84ee366",
        "_cell_guid": "758b1fa7-f139-4ebd-8d47-ffafba4ea382"
      },
      "cell_type": "markdown",
      "source": "#### Thank you all for taking a look at my notebook. This is for fun/learning purposes only. I'm a huge video games fan, so it's a really interesting project for me. Any suggestion, please leave them in the comments section of Kaggle. Thanks!"
    }
  ],
  "metadata": {
    "language_info": {
      "file_extension": ".py",
      "nbconvert_exporter": "python",
      "pygments_lexer": "ipython3",
      "name": "python",
      "version": "3.6.3",
      "mimetype": "text/x-python",
      "codemirror_mode": {
        "name": "ipython",
        "version": 3
      }
    },
    "kernelspec": {
      "display_name": "Python 3",
      "language": "python",
      "name": "python3"
    }
  },
  "nbformat": 4,
  "nbformat_minor": 1
}