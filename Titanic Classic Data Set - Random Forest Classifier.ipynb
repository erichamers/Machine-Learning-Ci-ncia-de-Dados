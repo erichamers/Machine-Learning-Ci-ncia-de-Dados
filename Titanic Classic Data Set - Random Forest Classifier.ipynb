{
  "cells": [
    {
      "metadata": {
        "_cell_guid": "3f9adafc-2291-45bb-b320-92821840cfc3",
        "_uuid": "2bfab440b45c7b1cbeed2b7e517330c7e3ef9081"
      },
      "cell_type": "markdown",
      "source": "# Titanic  - Random Forest Classifier\nSince I've done the Titanic exercise about a thousand times, I decided to go straight to the data manipulation and creating the model, since I already have a good understanding of how the features correlate.\n\nThere is stil a lot of room for improvement (obviously) regarding feature engineering, but I'm pretty happy with what I achieved so far. Specially considering this is my first kernel on Kaggle."
    },
    {
      "metadata": {
        "collapsed": true,
        "_cell_guid": "c312fb9b-fd20-4975-ab0b-cd11395e73fd",
        "_uuid": "2d31ebbff37f1b1cfdb43a3ebc2bc8a6af17adf1",
        "trusted": true
      },
      "cell_type": "code",
      "source": "# Imports\n\nimport pandas as pd\nimport numpy as np\nimport matplotlib.pyplot as plt\n%matplotlib inline\nimport seaborn as sns\nsns.set_style('darkgrid')",
      "execution_count": 1,
      "outputs": []
    },
    {
      "metadata": {
        "_cell_guid": "b43157a5-f827-4509-a808-58ebb821f017",
        "_uuid": "ba5404c0398e00cbd672c311f2d7b089ac465dd6",
        "trusted": true
      },
      "cell_type": "code",
      "source": "# Importing the data and checking the first 5 lines of it.\n\ntitanic_df = pd.read_csv('../input/train.csv')\ntest_df = pd.read_csv('../input/test.csv')\ntitanic_df.head()",
      "execution_count": 2,
      "outputs": [
        {
          "output_type": "execute_result",
          "execution_count": 2,
          "data": {
            "text/plain": "   PassengerId  Survived  Pclass  \\\n0            1         0       3   \n1            2         1       1   \n2            3         1       3   \n3            4         1       1   \n4            5         0       3   \n\n                                                Name     Sex   Age  SibSp  \\\n0                            Braund, Mr. Owen Harris    male  22.0      1   \n1  Cumings, Mrs. John Bradley (Florence Briggs Th...  female  38.0      1   \n2                             Heikkinen, Miss. Laina  female  26.0      0   \n3       Futrelle, Mrs. Jacques Heath (Lily May Peel)  female  35.0      1   \n4                           Allen, Mr. William Henry    male  35.0      0   \n\n   Parch            Ticket     Fare Cabin Embarked  \n0      0         A/5 21171   7.2500   NaN        S  \n1      0          PC 17599  71.2833   C85        C  \n2      0  STON/O2. 3101282   7.9250   NaN        S  \n3      0            113803  53.1000  C123        S  \n4      0            373450   8.0500   NaN        S  ",
            "text/html": "<div>\n<style>\n    .dataframe thead tr:only-child th {\n        text-align: right;\n    }\n\n    .dataframe thead th {\n        text-align: left;\n    }\n\n    .dataframe tbody tr th {\n        vertical-align: top;\n    }\n</style>\n<table border=\"1\" class=\"dataframe\">\n  <thead>\n    <tr style=\"text-align: right;\">\n      <th></th>\n      <th>PassengerId</th>\n      <th>Survived</th>\n      <th>Pclass</th>\n      <th>Name</th>\n      <th>Sex</th>\n      <th>Age</th>\n      <th>SibSp</th>\n      <th>Parch</th>\n      <th>Ticket</th>\n      <th>Fare</th>\n      <th>Cabin</th>\n      <th>Embarked</th>\n    </tr>\n  </thead>\n  <tbody>\n    <tr>\n      <th>0</th>\n      <td>1</td>\n      <td>0</td>\n      <td>3</td>\n      <td>Braund, Mr. Owen Harris</td>\n      <td>male</td>\n      <td>22.0</td>\n      <td>1</td>\n      <td>0</td>\n      <td>A/5 21171</td>\n      <td>7.2500</td>\n      <td>NaN</td>\n      <td>S</td>\n    </tr>\n    <tr>\n      <th>1</th>\n      <td>2</td>\n      <td>1</td>\n      <td>1</td>\n      <td>Cumings, Mrs. John Bradley (Florence Briggs Th...</td>\n      <td>female</td>\n      <td>38.0</td>\n      <td>1</td>\n      <td>0</td>\n      <td>PC 17599</td>\n      <td>71.2833</td>\n      <td>C85</td>\n      <td>C</td>\n    </tr>\n    <tr>\n      <th>2</th>\n      <td>3</td>\n      <td>1</td>\n      <td>3</td>\n      <td>Heikkinen, Miss. Laina</td>\n      <td>female</td>\n      <td>26.0</td>\n      <td>0</td>\n      <td>0</td>\n      <td>STON/O2. 3101282</td>\n      <td>7.9250</td>\n      <td>NaN</td>\n      <td>S</td>\n    </tr>\n    <tr>\n      <th>3</th>\n      <td>4</td>\n      <td>1</td>\n      <td>1</td>\n      <td>Futrelle, Mrs. Jacques Heath (Lily May Peel)</td>\n      <td>female</td>\n      <td>35.0</td>\n      <td>1</td>\n      <td>0</td>\n      <td>113803</td>\n      <td>53.1000</td>\n      <td>C123</td>\n      <td>S</td>\n    </tr>\n    <tr>\n      <th>4</th>\n      <td>5</td>\n      <td>0</td>\n      <td>3</td>\n      <td>Allen, Mr. William Henry</td>\n      <td>male</td>\n      <td>35.0</td>\n      <td>0</td>\n      <td>0</td>\n      <td>373450</td>\n      <td>8.0500</td>\n      <td>NaN</td>\n      <td>S</td>\n    </tr>\n  </tbody>\n</table>\n</div>"
          },
          "metadata": {}
        }
      ]
    },
    {
      "metadata": {
        "_cell_guid": "069d4c26-6da4-4c36-8344-6a81d38ecb6a",
        "_uuid": "4ca025f8ef1e8dc166ef85f655dcaabaec69960c",
        "trusted": true
      },
      "cell_type": "code",
      "source": "# Now let's check the info on both titanic_df and test_df\n\nprint(titanic_df.info())\nprint('---------------------------------------')\nprint(test_df.info())",
      "execution_count": 3,
      "outputs": [
        {
          "output_type": "stream",
          "text": "<class 'pandas.core.frame.DataFrame'>\nRangeIndex: 891 entries, 0 to 890\nData columns (total 12 columns):\nPassengerId    891 non-null int64\nSurvived       891 non-null int64\nPclass         891 non-null int64\nName           891 non-null object\nSex            891 non-null object\nAge            714 non-null float64\nSibSp          891 non-null int64\nParch          891 non-null int64\nTicket         891 non-null object\nFare           891 non-null float64\nCabin          204 non-null object\nEmbarked       889 non-null object\ndtypes: float64(2), int64(5), object(5)\nmemory usage: 83.6+ KB\nNone\n---------------------------------------\n<class 'pandas.core.frame.DataFrame'>\nRangeIndex: 418 entries, 0 to 417\nData columns (total 11 columns):\nPassengerId    418 non-null int64\nPclass         418 non-null int64\nName           418 non-null object\nSex            418 non-null object\nAge            332 non-null float64\nSibSp          418 non-null int64\nParch          418 non-null int64\nTicket         418 non-null object\nFare           417 non-null float64\nCabin          91 non-null object\nEmbarked       418 non-null object\ndtypes: float64(2), int64(4), object(5)\nmemory usage: 36.0+ KB\nNone\n",
          "name": "stdout"
        }
      ]
    },
    {
      "metadata": {
        "_cell_guid": "a599b8f4-c0c8-4961-a163-a592b4724bbc",
        "_uuid": "81e71e7210f27d66944323c923aca6d1503bb063",
        "trusted": true
      },
      "cell_type": "code",
      "source": "# Checking for missing values on both data sets\n\nprint(titanic_df.isnull().sum())\nprint('------------------')\nprint(test_df.isnull().sum())",
      "execution_count": 4,
      "outputs": [
        {
          "output_type": "stream",
          "text": "PassengerId      0\nSurvived         0\nPclass           0\nName             0\nSex              0\nAge            177\nSibSp            0\nParch            0\nTicket           0\nFare             0\nCabin          687\nEmbarked         2\ndtype: int64\n------------------\nPassengerId      0\nPclass           0\nName             0\nSex              0\nAge             86\nSibSp            0\nParch            0\nTicket           0\nFare             1\nCabin          327\nEmbarked         0\ndtype: int64\n",
          "name": "stdout"
        }
      ]
    },
    {
      "metadata": {
        "_cell_guid": "f1f17dcd-143a-4fd9-946d-2a488d63babf",
        "_uuid": "86ef74b3ea05eeb62a707de4b6acbe54c3a7f72e",
        "trusted": true
      },
      "cell_type": "code",
      "source": "# Let's check the most common value in 'Embarked', so we can fill the 2 Nan's in titanic_df\n\ntitanic_df['Embarked'].value_counts()",
      "execution_count": 5,
      "outputs": [
        {
          "output_type": "execute_result",
          "execution_count": 5,
          "data": {
            "text/plain": "S    644\nC    168\nQ     77\nName: Embarked, dtype: int64"
          },
          "metadata": {}
        }
      ]
    },
    {
      "metadata": {
        "collapsed": true,
        "_cell_guid": "59579597-d3ad-4bd8-99e0-8f5942dd201a",
        "_uuid": "2f6a49ab8ca2a8784eb49028cfe37c68d7fef87e",
        "trusted": true
      },
      "cell_type": "code",
      "source": "titanic_df['Embarked'].fillna('S', inplace=True)\ntest_df['Fare'].fillna(test_df['Fare'].mean(), inplace=True)",
      "execution_count": 6,
      "outputs": []
    },
    {
      "metadata": {
        "collapsed": true,
        "_cell_guid": "0cb329a2-e99b-43e2-a116-6ca48eecd59b",
        "_uuid": "74fd7a684308db430b202658d354c06213b3cb94",
        "trusted": true
      },
      "cell_type": "code",
      "source": "# Here I'm trying to find what's the average age by class, so we can more accurately fill the\n# missing values in the 'Age' column\n\nfirst_class_age = int(titanic_df[titanic_df['Pclass'] == 1]['Age'].mean())\nsecond_class_age = int(titanic_df[titanic_df['Pclass'] == 2]['Age'].mean())\nthird_class_age = int(titanic_df[titanic_df['Pclass'] == 3]['Age'].mean())",
      "execution_count": 7,
      "outputs": []
    },
    {
      "metadata": {
        "_cell_guid": "b1dd8804-6af7-424e-9289-488a7af676d4",
        "_uuid": "a1867dcd89aaf98174e744edac6cc0cb415fb3a1",
        "trusted": true
      },
      "cell_type": "code",
      "source": "print('First Class Average Age: {}'.format(first_class_age))\nprint('Second Class Average Age: {}'.format(second_class_age))\nprint('Third Class Average Age: {}'.format(third_class_age))",
      "execution_count": 8,
      "outputs": [
        {
          "output_type": "stream",
          "text": "First Class Average Age: 38\nSecond Class Average Age: 29\nThird Class Average Age: 25\n",
          "name": "stdout"
        }
      ]
    },
    {
      "metadata": {
        "collapsed": true,
        "_cell_guid": "66cd1819-3dcb-4a5b-a621-3feeba7e09d6",
        "_uuid": "fc263fe01ef59801ec71489ea95e14f72f72675e",
        "trusted": true
      },
      "cell_type": "code",
      "source": "# Now that we have the average age by class, let's fill those NaN's\n\ndef empute_age(cols):\n    Age = cols[0]\n    Pclass = cols[1]\n    \n    if pd.isnull(Age):\n        if Pclass == 1:\n            return first_class_age\n        elif Pclass == 2:\n            return second_class_age\n        else:\n            return third_class_age\n    else:\n        return Age",
      "execution_count": 9,
      "outputs": []
    },
    {
      "metadata": {
        "collapsed": true,
        "_cell_guid": "522fc1bf-2345-46ce-bfd9-cafc2e26bd2e",
        "_uuid": "1d4f488d3e55c4cc4960ace6b036c26e6a42d14a",
        "trusted": true
      },
      "cell_type": "code",
      "source": "titanic_df['Age'] = titanic_df[['Age', 'Pclass']].apply(empute_age, axis=1)\ntest_df['Age'] = test_df[['Age', 'Pclass']].apply(empute_age, axis=1)",
      "execution_count": 10,
      "outputs": []
    },
    {
      "metadata": {
        "collapsed": true,
        "_cell_guid": "592aa36e-31f1-481c-8d7b-3ef8df6553ee",
        "_uuid": "93723198ebd941d7fe43340a999510315071c4ab",
        "trusted": true
      },
      "cell_type": "code",
      "source": "# We can drop the Cabin column since it's missing so many values, and I don't think we can\n# feature engineering it.\n\ntitanic_df.drop('Cabin', axis=1, inplace=True)\ntest_df.drop('Cabin', axis=1, inplace=True)",
      "execution_count": 11,
      "outputs": []
    },
    {
      "metadata": {
        "collapsed": true,
        "_cell_guid": "aa06bbbe-7540-4163-bf88-0d1a7e3607f3",
        "_uuid": "02ce209fb0e7cee1f73e50e63c962dd8aa7133df",
        "trusted": true
      },
      "cell_type": "code",
      "source": "# Let's get the lenght of names into a new column, since that has a relationship with survival\n# rate\n\ntitanic_df['Name_Len'] = titanic_df['Name'].apply(lambda x: len(x))\ntest_df['Name_Len'] = test_df['Name'].apply(lambda x: len(x))",
      "execution_count": 12,
      "outputs": []
    },
    {
      "metadata": {
        "collapsed": true,
        "_cell_guid": "fd7efbf5-018f-4539-b6e1-8ac5d54fab78",
        "_uuid": "0fac686254fd3d382af861d1f64a247c4fb48152",
        "trusted": true
      },
      "cell_type": "code",
      "source": "# We can also take the title out of the 'Name' feature and put it in a new column\n\ntitanic_df['Name_Title'] = titanic_df['Name'].apply(lambda x: x.split(',')[1]).apply(lambda x: x.split()[0])\ntest_df['Name_Title'] = test_df['Name'].apply(lambda x: x.split(',')[1]).apply(lambda x: x.split()[0])",
      "execution_count": 13,
      "outputs": []
    },
    {
      "metadata": {
        "_cell_guid": "8991d388-b5aa-436a-9913-2b6dc183af0d",
        "_uuid": "815a2eb00c40f44371cb2152e6ec21910c554a07",
        "trusted": true
      },
      "cell_type": "code",
      "source": "# Let's check the titles\n\nprint(titanic_df['Name_Title'].value_counts())\nprint('--------------------')\nprint(test_df['Name_Title'].value_counts())",
      "execution_count": 14,
      "outputs": [
        {
          "output_type": "stream",
          "text": "Mr.          517\nMiss.        182\nMrs.         125\nMaster.       40\nDr.            7\nRev.           6\nCol.           2\nMlle.          2\nMajor.         2\nthe            1\nMme.           1\nSir.           1\nMs.            1\nDon.           1\nJonkheer.      1\nCapt.          1\nLady.          1\nName: Name_Title, dtype: int64\n--------------------\nMr.        240\nMiss.       78\nMrs.        72\nMaster.     21\nRev.         2\nCol.         2\nDona.        1\nMs.          1\nDr.          1\nName: Name_Title, dtype: int64\n",
          "name": "stdout"
        }
      ]
    },
    {
      "metadata": {
        "collapsed": true,
        "_cell_guid": "c7d05b3c-30ea-4cf8-854d-2b588aff367e",
        "_uuid": "1aad928f613b4326d55af9bb614bce5805e3f157",
        "trusted": true
      },
      "cell_type": "code",
      "source": "# We can create a dictionary for the titles with values to be used as dummy variables in our\n# model\n\ntitles = {'Mr.': 0, 'Miss.': 1, 'Mrs.': 2, 'Master.': 3, 'Dr.': 4, 'Rev.': 5, 'Major.': 6,\n          'Col.': 7, 'Mlle.': 8, 'Jonkheer.': 9, 'Sir.': 10, 'Mme.': 11, 'the': 12, 'Don.': 13,\n          'Capt.' : 14, 'Lady.': 15, 'Ms.': 16, 'Dona.': 17\n         }",
      "execution_count": 15,
      "outputs": []
    },
    {
      "metadata": {
        "collapsed": true,
        "_cell_guid": "1b04d474-dfc4-4162-9654-b44ae2600ce0",
        "_uuid": "d1e76417fe2769ccb4787f7211dd4b36001fcd74",
        "trusted": true
      },
      "cell_type": "code",
      "source": "# Replacing the titles for their correspondent dummy variable\n\ntitanic_df['Name_Title'].replace(titles, inplace=True)\ntest_df['Name_Title'].replace(titles, inplace=True)",
      "execution_count": 16,
      "outputs": []
    },
    {
      "metadata": {
        "collapsed": true,
        "_cell_guid": "5b7a9e31-cdb3-484c-988d-ec5094ea635a",
        "_uuid": "1b872683386e72f057509030062d385121a853d4",
        "trusted": true
      },
      "cell_type": "code",
      "source": "# Getting dummy variables\n\nsex_dummy_titanic = pd.get_dummies(titanic_df['Sex'], drop_first=True)\nsex_dummy_test = pd.get_dummies(test_df['Sex'], drop_first=True)\n\nembark_dummy_titanic = pd.get_dummies(titanic_df['Embarked'], drop_first=True)\nembark_dummy_test = pd.get_dummies(test_df['Embarked'], drop_first=True)",
      "execution_count": 17,
      "outputs": []
    },
    {
      "metadata": {
        "collapsed": true,
        "_cell_guid": "07736a6c-f0d9-41cd-9974-e2edbb0a69f3",
        "_uuid": "e368e4e7129d9ad8ed59c9e74d0489d48f00b4aa",
        "trusted": true
      },
      "cell_type": "code",
      "source": "# Let's drop the rest of the columns that we are not going to use\n# Note that we are not dropping the PassengerId in the test_df because we need it for our\n# submission file for the competition\n\ntitanic_df.drop(['PassengerId', 'Name', 'Sex', 'Ticket', 'Embarked'], axis=1, inplace=True)\ntest_df.drop(['Name', 'Sex', 'Ticket', 'Embarked'], axis=1, inplace=True)",
      "execution_count": 18,
      "outputs": []
    },
    {
      "metadata": {
        "collapsed": true,
        "_cell_guid": "bc8808e5-d577-4d6d-8556-29d80f645c01",
        "_uuid": "b21b24bafe6278dd2007b67dedcf083d6718bf84",
        "trusted": true
      },
      "cell_type": "code",
      "source": "# Let's define our features and target columns and split them \n\nX_train = titanic_df.drop('Survived', axis=1)\ny_train = titanic_df['Survived']\n\nX_test = test_df.drop('PassengerId', axis=1).copy()",
      "execution_count": 19,
      "outputs": []
    },
    {
      "metadata": {
        "_cell_guid": "dddadca4-88a5-48ea-b7bf-6d665ec27a30",
        "_uuid": "8e95dbf4b495164bc783a5fb550e6b3faf4d4de5",
        "trusted": true
      },
      "cell_type": "code",
      "source": "# Now we can start creating our model\n# Let's import the necessary modules, create an instance of RandomForestClassifier and fit the\n# model\n\nfrom sklearn.ensemble import RandomForestClassifier\nfrom sklearn.metrics import mean_absolute_error\n\nmodel = RandomForestClassifier()\nmodel.fit(X_train, y_train)",
      "execution_count": 20,
      "outputs": [
        {
          "output_type": "execute_result",
          "execution_count": 20,
          "data": {
            "text/plain": "RandomForestClassifier(bootstrap=True, class_weight=None, criterion='gini',\n            max_depth=None, max_features='auto', max_leaf_nodes=None,\n            min_impurity_decrease=0.0, min_impurity_split=None,\n            min_samples_leaf=1, min_samples_split=2,\n            min_weight_fraction_leaf=0.0, n_estimators=10, n_jobs=1,\n            oob_score=False, random_state=None, verbose=0,\n            warm_start=False)"
          },
          "metadata": {}
        }
      ]
    },
    {
      "metadata": {
        "collapsed": true,
        "_cell_guid": "16972aa7-2f61-481e-9644-0863167d8146",
        "_uuid": "b419c657432bf175d0a0d3d6224c5f5498e2c66a",
        "trusted": true
      },
      "cell_type": "code",
      "source": "# Let's assign our predictions to a variable\n\npredictions = model.predict(X_test)",
      "execution_count": 21,
      "outputs": []
    },
    {
      "metadata": {
        "_cell_guid": "92248709-12d3-4985-845c-ed9b71a2d37b",
        "_uuid": "324479d57218f397306e0eb41df21e08c7fd74b6",
        "trusted": true
      },
      "cell_type": "code",
      "source": "# And check our model's final score\n\nmodel.score(X_train, y_train)",
      "execution_count": 22,
      "outputs": [
        {
          "output_type": "execute_result",
          "execution_count": 22,
          "data": {
            "text/plain": "0.97643097643097643"
          },
          "metadata": {}
        }
      ]
    },
    {
      "metadata": {
        "_kg_hide-output": true,
        "_cell_guid": "50ca3475-0911-4294-aa89-44dbfeb36064",
        "_uuid": "cfc98e0da6611647eea7aced4c75667f0dcd190a",
        "trusted": true
      },
      "cell_type": "code",
      "source": "# Create a submission file to be sent to kaggle\n\nsubmission = pd.DataFrame(\n            {'PassengerId': test_df['PassengerId'],\n             'Survived': predictions})\nsubmission.to_csv('titanic_logreg.csv', index=False)",
      "execution_count": 24,
      "outputs": []
    },
    {
      "metadata": {
        "_cell_guid": "354073b2-2813-453f-bbe1-d80cd64d4cf2",
        "_uuid": "fc2a22054fa0812ea827aa56d8804ea8b3d37fdd"
      },
      "cell_type": "markdown",
      "source": "Like I said in the notebook, there are obviously TONS of room for improvement, I'm only a beginner and student of data science and machine learning, if you happen to check this notebook and have some constructive criticism, please go ahead, 90% of the reason of posting this notebook and beeing on kaggle is to learn new things, so I'm really looking forward to connecting with you."
    }
  ],
  "metadata": {
    "language_info": {
      "name": "python",
      "version": "3.6.3",
      "mimetype": "text/x-python",
      "codemirror_mode": {
        "name": "ipython",
        "version": 3
      },
      "pygments_lexer": "ipython3",
      "nbconvert_exporter": "python",
      "file_extension": ".py"
    },
    "kernelspec": {
      "display_name": "Python 3",
      "language": "python",
      "name": "python3"
    }
  },
  "nbformat": 4,
  "nbformat_minor": 1
}
